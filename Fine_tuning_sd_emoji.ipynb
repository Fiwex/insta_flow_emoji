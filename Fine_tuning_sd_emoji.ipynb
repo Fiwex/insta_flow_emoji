{
 "cells": [
  {
   "cell_type": "code",
   "execution_count": 1,
   "id": "initial_id",
   "metadata": {
    "collapsed": true,
    "ExecuteTime": {
     "end_time": "2024-02-02T18:03:42.926311002Z",
     "start_time": "2024-02-02T18:03:40.060207907Z"
    }
   },
   "outputs": [],
   "source": [
    "import pandas as pd\n",
    "import numpy as np\n",
    "\n",
    "import json\n",
    "\n",
    "import torch\n",
    "import torch.nn as nn\n",
    "from torch.nn import functional as F\n",
    "\n",
    "from PIL import Image\n",
    "from transformers import CLIPTokenizer\n",
    "\n",
    "from tqdm import tqdm"
   ]
  },
  {
   "cell_type": "code",
   "outputs": [
    {
     "data": {
      "text/plain": "                                             text  \\\nimage_id                                            \n0                               ухмыляющееся лицо   \n1            ухмыляющееся лицо с большими глазами   \n2         улыбающееся лицо с улыбающимися глазами   \n3             сияющее лицо с улыбающимися глазами   \n4                     ухмыляющееся щурящееся лицо   \n\n                                                       name  \\\nimage_id                                                      \n0                                             grinning face   \n1                              smiling face with open mouth   \n2             smiling face with open mouth and smiling eyes   \n3                           grinning face with smiling eyes   \n4         smiling face with open mouth and tightly close...   \n\n                      group     sub_group emoji  train  text_length  \\\nimage_id                                                              \n0         Smileys & Emotion  face-smiling     😀      1           17   \n1         Smileys & Emotion  face-smiling     😃      1           36   \n2         Smileys & Emotion  face-smiling     😄      1           39   \n3         Smileys & Emotion  face-smiling     😁      1           35   \n4         Smileys & Emotion  face-smiling     😆      1           27   \n\n          word_count  \nimage_id              \n0                  2  \n1                  5  \n2                  5  \n3                  5  \n4                  3  ",
      "text/html": "<div>\n<style scoped>\n    .dataframe tbody tr th:only-of-type {\n        vertical-align: middle;\n    }\n\n    .dataframe tbody tr th {\n        vertical-align: top;\n    }\n\n    .dataframe thead th {\n        text-align: right;\n    }\n</style>\n<table border=\"1\" class=\"dataframe\">\n  <thead>\n    <tr style=\"text-align: right;\">\n      <th></th>\n      <th>text</th>\n      <th>name</th>\n      <th>group</th>\n      <th>sub_group</th>\n      <th>emoji</th>\n      <th>train</th>\n      <th>text_length</th>\n      <th>word_count</th>\n    </tr>\n    <tr>\n      <th>image_id</th>\n      <th></th>\n      <th></th>\n      <th></th>\n      <th></th>\n      <th></th>\n      <th></th>\n      <th></th>\n      <th></th>\n    </tr>\n  </thead>\n  <tbody>\n    <tr>\n      <th>0</th>\n      <td>ухмыляющееся лицо</td>\n      <td>grinning face</td>\n      <td>Smileys &amp; Emotion</td>\n      <td>face-smiling</td>\n      <td>😀</td>\n      <td>1</td>\n      <td>17</td>\n      <td>2</td>\n    </tr>\n    <tr>\n      <th>1</th>\n      <td>ухмыляющееся лицо с большими глазами</td>\n      <td>smiling face with open mouth</td>\n      <td>Smileys &amp; Emotion</td>\n      <td>face-smiling</td>\n      <td>😃</td>\n      <td>1</td>\n      <td>36</td>\n      <td>5</td>\n    </tr>\n    <tr>\n      <th>2</th>\n      <td>улыбающееся лицо с улыбающимися глазами</td>\n      <td>smiling face with open mouth and smiling eyes</td>\n      <td>Smileys &amp; Emotion</td>\n      <td>face-smiling</td>\n      <td>😄</td>\n      <td>1</td>\n      <td>39</td>\n      <td>5</td>\n    </tr>\n    <tr>\n      <th>3</th>\n      <td>сияющее лицо с улыбающимися глазами</td>\n      <td>grinning face with smiling eyes</td>\n      <td>Smileys &amp; Emotion</td>\n      <td>face-smiling</td>\n      <td>😁</td>\n      <td>1</td>\n      <td>35</td>\n      <td>5</td>\n    </tr>\n    <tr>\n      <th>4</th>\n      <td>ухмыляющееся щурящееся лицо</td>\n      <td>smiling face with open mouth and tightly close...</td>\n      <td>Smileys &amp; Emotion</td>\n      <td>face-smiling</td>\n      <td>😆</td>\n      <td>1</td>\n      <td>27</td>\n      <td>3</td>\n    </tr>\n  </tbody>\n</table>\n</div>"
     },
     "execution_count": 2,
     "metadata": {},
     "output_type": "execute_result"
    }
   ],
   "source": [
    "df = pd.read_csv('dataset/marking.csv', index_col='image_id')\n",
    "df['text'] = df['text'].str.lower()\n",
    "df['text_length'] = df['text'].apply(len)\n",
    "df['word_count'] = df['text'].apply(lambda x: len(x.split()))\n",
    "df.head()"
   ],
   "metadata": {
    "collapsed": false,
    "ExecuteTime": {
     "end_time": "2024-02-02T18:03:42.931492366Z",
     "start_time": "2024-02-02T18:03:42.812255059Z"
    }
   },
   "id": "47bf28018af0e1e0",
   "execution_count": 2
  },
  {
   "cell_type": "code",
   "outputs": [
    {
     "data": {
      "text/plain": "Index(['text', 'name', 'group', 'sub_group', 'emoji', 'train', 'text_length',\n       'word_count'],\n      dtype='object')"
     },
     "execution_count": 3,
     "metadata": {},
     "output_type": "execute_result"
    }
   ],
   "source": [
    "df.columns"
   ],
   "metadata": {
    "collapsed": false,
    "ExecuteTime": {
     "end_time": "2024-02-02T18:03:43.255364713Z",
     "start_time": "2024-02-02T18:03:42.834190054Z"
    }
   },
   "id": "3264554a25c6239b",
   "execution_count": 3
  },
  {
   "cell_type": "code",
   "outputs": [
    {
     "data": {
      "text/plain": "2749"
     },
     "execution_count": 4,
     "metadata": {},
     "output_type": "execute_result"
    }
   ],
   "source": [
    "## Length of df\n",
    "len(df)"
   ],
   "metadata": {
    "collapsed": false,
    "ExecuteTime": {
     "end_time": "2024-02-02T18:03:54.961855951Z",
     "start_time": "2024-02-02T18:03:54.606012535Z"
    }
   },
   "id": "601191ab4cb1ebd9",
   "execution_count": 4
  },
  {
   "cell_type": "code",
   "outputs": [
    {
     "name": "stdout",
     "output_type": "stream",
     "text": [
      "Metadata.jsonl file created at: dataset/rgba_train/metadata.jsonl\n"
     ]
    }
   ],
   "source": [
    "# Filter rows where 'train' column is True if you only want those marked for training\n",
    "# df_train = df[df['train'] == True]\n",
    "\n",
    "# Define the output file for the metadata\n",
    "metadata_jsonl_path = 'dataset/rgba_train/metadata.jsonl'\n",
    "\n",
    "# Open the output file\n",
    "with open(metadata_jsonl_path, 'w') as f:\n",
    "    # Iterate over each row in the dataframe\n",
    "    for index, row in df.iterrows():\n",
    "        # Construct the metadata entry\n",
    "        metadata_entry = {\n",
    "            \"file_name\": f\"train_{index:05d}.png\",  # This assumes the index matches the image numbering\n",
    "            \"text\": row['name']  # Change to row['text'] if you prefer the Russian description\n",
    "        }\n",
    "\n",
    "        # Write the metadata entry to the file\n",
    "        f.write(json.dumps(metadata_entry) + '\\n')\n",
    "\n",
    "print(f\"Metadata.jsonl file created at: {metadata_jsonl_path}\")"
   ],
   "metadata": {
    "collapsed": false,
    "ExecuteTime": {
     "end_time": "2024-02-02T16:45:33.375530957Z",
     "start_time": "2024-02-02T16:45:32.811480739Z"
    }
   },
   "id": "75c598785c4aa4f7",
   "execution_count": 8
  },
  {
   "cell_type": "code",
   "outputs": [],
   "source": [
    "!pip install git+https://github.com/huggingface/diffusers.git\n",
    "!pip install -U -r requirements.txt"
   ],
   "metadata": {
    "collapsed": false,
    "is_executing": true
   },
   "id": "816b1dc44cb7f4c3",
   "execution_count": null
  },
  {
   "cell_type": "code",
   "outputs": [
    {
     "name": "stdout",
     "output_type": "stream",
     "text": [
      "/home/fiwex/.pyenv/versions/InstaFlow/lib/python3.11/site-packages/transformers/utils/generic.py:311: UserWarning: torch.utils._pytree._register_pytree_node is deprecated. Please use torch.utils._pytree.register_pytree_node instead.\r\n",
      "  torch.utils._pytree._register_pytree_node(\r\n",
      "--------------------------------------------------------------------------------In which compute environment are you running?\r\n",
      "Please select a choice using the arrow or number keys, and selecting with enter\r\n",
      " ➔  \u001B[32mThis machine\u001B[0m\r\n",
      "    AWS (Amazon SageMaker)\r\n",
      "\u001B[2A\u001B[?25l\u001B[2B\u001B[?25hTraceback (most recent call last):\r\n",
      "  File \"/home/fiwex/.pyenv/versions/3.11.7/envs/InstaFlow/bin/accelerate\", line 8, in <module>\r\n",
      "    sys.exit(main())\r\n",
      "             ^^^^^^\r\n",
      "  File \"/home/fiwex/.pyenv/versions/InstaFlow/lib/python3.11/site-packages/accelerate/commands/accelerate_cli.py\", line 47, in main\r\n",
      "    args.func(args)\r\n",
      "  File \"/home/fiwex/.pyenv/versions/InstaFlow/lib/python3.11/site-packages/accelerate/commands/config/config.py\", line 67, in config_command\r\n",
      "    config = get_user_input()\r\n",
      "             ^^^^^^^^^^^^^^^^\r\n",
      "  File \"/home/fiwex/.pyenv/versions/InstaFlow/lib/python3.11/site-packages/accelerate/commands/config/config.py\", line 32, in get_user_input\r\n",
      "    compute_environment = _ask_options(\r\n",
      "                          ^^^^^^^^^^^^^\r\n",
      "  File \"/home/fiwex/.pyenv/versions/InstaFlow/lib/python3.11/site-packages/accelerate/commands/config/config_utils.py\", line 60, in _ask_options\r\n",
      "    result = menu.run(default_choice=default)\r\n",
      "             ^^^^^^^^^^^^^^^^^^^^^^^^^^^^^^^^\r\n",
      "  File \"/home/fiwex/.pyenv/versions/InstaFlow/lib/python3.11/site-packages/accelerate/commands/menu/selection_menu.py\", line 136, in run\r\n",
      "    choice = self.handle_input()\r\n",
      "             ^^^^^^^^^^^^^^^^^^^\r\n",
      "  File \"/home/fiwex/.pyenv/versions/InstaFlow/lib/python3.11/site-packages/accelerate/commands/menu/input.py\", line 79, in handle_input\r\n",
      "    return handler(cls)\r\n",
      "           ^^^^^^^^^^^^\r\n",
      "  File \"/home/fiwex/.pyenv/versions/InstaFlow/lib/python3.11/site-packages/accelerate/commands/menu/selection_menu.py\", line 96, in interrupt\r\n",
      "    raise KeyboardInterrupt\r\n",
      "KeyboardInterrupt\r\n"
     ]
    }
   ],
   "source": [
    "!accelerate config"
   ],
   "metadata": {
    "collapsed": false,
    "ExecuteTime": {
     "end_time": "2024-02-02T17:05:05.209646195Z",
     "start_time": "2024-02-02T17:04:24.640858003Z"
    }
   },
   "id": "3f615581ef3c8de7",
   "execution_count": 10
  },
  {
   "cell_type": "code",
   "outputs": [
    {
     "name": "stdout",
     "output_type": "stream",
     "text": [
      "\r\n",
      "    _|    _|  _|    _|    _|_|_|    _|_|_|  _|_|_|  _|      _|    _|_|_|      _|_|_|_|    _|_|      _|_|_|  _|_|_|_|\r\n",
      "    _|    _|  _|    _|  _|        _|          _|    _|_|    _|  _|            _|        _|    _|  _|        _|\r\n",
      "    _|_|_|_|  _|    _|  _|  _|_|  _|  _|_|    _|    _|  _|  _|  _|  _|_|      _|_|_|    _|_|_|_|  _|        _|_|_|\r\n",
      "    _|    _|  _|    _|  _|    _|  _|    _|    _|    _|    _|_|  _|    _|      _|        _|    _|  _|        _|\r\n",
      "    _|    _|    _|_|      _|_|_|    _|_|_|  _|_|_|  _|      _|    _|_|_|      _|        _|    _|    _|_|_|  _|_|_|_|\r\n",
      "\r\n",
      "    To login, `huggingface_hub` requires a token generated from https://huggingface.co/settings/tokens .\r\n",
      "Token: "
     ]
    }
   ],
   "source": [
    "!huggingface-cli login"
   ],
   "metadata": {
    "collapsed": false,
    "is_executing": true,
    "ExecuteTime": {
     "start_time": "2024-02-02T17:05:05.211105834Z"
    }
   },
   "id": "8260465b10ffb3ef"
  },
  {
   "cell_type": "code",
   "outputs": [],
   "source": [
    "!export MODEL_NAME=\"runwayml/stable-diffusion-v1-5\""
   ],
   "metadata": {
    "collapsed": false
   },
   "id": "30181c8402c1b935"
  },
  {
   "cell_type": "code",
   "outputs": [],
   "source": [
    "!export TRAIN_DIR=\"dataset/rgba_train\""
   ],
   "metadata": {
    "collapsed": false
   },
   "id": "378b0494cbe0e1e5"
  },
  {
   "cell_type": "code",
   "outputs": [],
   "source": [
    "!export OUTPUT_DIR=\"stable_diffusion_files\""
   ],
   "metadata": {
    "collapsed": false
   },
   "id": "a00a8f3e93512375"
  },
  {
   "cell_type": "code",
   "outputs": [],
   "source": [
    "%%bash\n",
    "\n",
    "accelerate launch train_text_to_image.py \\\n",
    " --pretrained_model_name_or_path={os.environ['MODEL_NAME']} \\\n",
    " --train_data_dir={os.environ['TRAIN_DIR']} \\\n",
    " --use_ema \\\n",
    "                                                 --resolution=512 --center_crop --random_flip \\\n",
    "                                                              --train_batch_size=1 \\\n",
    "                                                                                 --gradient_accumulation_steps=4 \\\n",
    "                                                                                                               --gradient_checkpointing \\\n",
    "                                                                                                               --mixed_precision=\"fp16\" \\\n",
    "                                                                                                                                 --max_train_steps=15000 \\\n",
    "                                                                                                                                                   --learning_rate=1e-05 \\\n",
    "                                                                                                                                                                   --max_grad_norm=1 \\\n",
    "                                                                                                                                                                                   --lr_scheduler=\"constant\" --lr_warmup_steps=0 \\\n",
    "                                                                                                                                                                                                                               --output_dir={os.environ['OUTPUT_DIR']}"
   ],
   "metadata": {
    "collapsed": false
   },
   "id": "6bda6d8ddce19ab2"
  }
 ],
 "metadata": {
  "kernelspec": {
   "display_name": "Python 3",
   "language": "python",
   "name": "python3"
  },
  "language_info": {
   "codemirror_mode": {
    "name": "ipython",
    "version": 2
   },
   "file_extension": ".py",
   "mimetype": "text/x-python",
   "name": "python",
   "nbconvert_exporter": "python",
   "pygments_lexer": "ipython2",
   "version": "2.7.6"
  }
 },
 "nbformat": 4,
 "nbformat_minor": 5
}
